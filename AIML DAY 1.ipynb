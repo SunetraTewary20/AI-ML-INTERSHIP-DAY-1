{
 "cells": [
  {
   "cell_type": "code",
   "execution_count": 121,
   "id": "774e674e-9415-4729-b6d3-99ad70562be1",
   "metadata": {},
   "outputs": [],
   "source": [
    "# Fisrt we are try to understand Titanic Dataset\n",
    "\n",
    "# Titanic Dataset Columns Explained\n",
    "# PassengerId\n",
    "# A unique identifier for each passenger.\n",
    "# Example: 1, 2, 3, ...\n",
    "\n",
    "# Survived\n",
    "# Indicates if the passenger survived the sinking of the Titanic.\n",
    "\n",
    "# 0 = Did not survive\n",
    "\n",
    "# 1 = Survived\n",
    "\n",
    "# Pclass\n",
    "# Passenger class, which is a proxy for socio-economic status:\n",
    "\n",
    "# 1 = 1st class (upper)\n",
    "\n",
    "# 2 = 2nd class (middle)\n",
    "\n",
    "# 3 = 3rd class (lower)\n",
    "\n",
    "# Name\n",
    "# Full name of the passenger, sometimes including titles (Mr., Mrs., Miss, etc.).\n",
    "\n",
    "# Sex\n",
    "# Gender of the passenger. Usually \"male\" or \"female\".\n",
    "\n",
    "# Age\n",
    "# Age of the passenger in years. Some values may be missing.\n",
    "\n",
    "# SibSp\n",
    "# Number of siblings or spouses aboard the Titanic with the passenger.\n",
    "\n",
    "# Parch\n",
    "# Number of parents or children aboard the Titanic with the passenger.\n",
    "\n",
    "# Ticket\n",
    "# Ticket number of the passenger’s booking. Can be numeric or alphanumeric.\n",
    "\n",
    "# Fare\n",
    "# Amount of money the passenger paid for the ticket.\n",
    "\n",
    "# Cabin\n",
    "# Cabin number where the passenger stayed. Often missing and can include letters and numbers.\n",
    "\n",
    "# Embarked\n",
    "# Port where the passenger boarded the Titanic:\n",
    "\n",
    "# C = Cherbourg\n",
    "\n",
    "# Q = Queenstown\n",
    "\n",
    "# S = Southampton"
   ]
  },
  {
   "cell_type": "code",
   "execution_count": 122,
   "id": "ef197e0d-e2c3-49e4-b75f-d48b78632745",
   "metadata": {},
   "outputs": [],
   "source": [
    "# 1.Import the dataset and explore basic info (nulls, data types)."
   ]
  },
  {
   "cell_type": "code",
   "execution_count": 123,
   "id": "1e604eb5-cff7-454a-abc7-c94360e2d4cf",
   "metadata": {},
   "outputs": [
    {
     "name": "stdout",
     "output_type": "stream",
     "text": [
      "   PassengerId  Survived  Pclass  \\\n",
      "0            1         0       3   \n",
      "1            2         1       1   \n",
      "2            3         1       3   \n",
      "3            4         1       1   \n",
      "4            5         0       3   \n",
      "\n",
      "                                                Name     Sex   Age  SibSp  \\\n",
      "0                            Braund, Mr. Owen Harris    male  22.0      1   \n",
      "1  Cumings, Mrs. John Bradley (Florence Briggs Th...  female  38.0      1   \n",
      "2                             Heikkinen, Miss. Laina  female  26.0      0   \n",
      "3       Futrelle, Mrs. Jacques Heath (Lily May Peel)  female  35.0      1   \n",
      "4                           Allen, Mr. William Henry    male  35.0      0   \n",
      "\n",
      "   Parch            Ticket     Fare Cabin Embarked  \n",
      "0      0         A/5 21171   7.2500   NaN        S  \n",
      "1      0          PC 17599  71.2833   C85        C  \n",
      "2      0  STON/O2. 3101282   7.9250   NaN        S  \n",
      "3      0            113803  53.1000  C123        S  \n",
      "4      0            373450   8.0500   NaN        S  \n"
     ]
    }
   ],
   "source": [
    "import pandas as pd\n",
    "df = pd.read_csv('Titanic-Dataset.csv')\n",
    "print(df.head())"
   ]
  },
  {
   "cell_type": "code",
   "execution_count": 124,
   "id": "81cd2645-eefd-44f7-97c5-06df4c7d98be",
   "metadata": {},
   "outputs": [
    {
     "name": "stdout",
     "output_type": "stream",
     "text": [
      "\n",
      "Data Info:\n",
      "<class 'pandas.core.frame.DataFrame'>\n",
      "RangeIndex: 891 entries, 0 to 890\n",
      "Data columns (total 12 columns):\n",
      " #   Column       Non-Null Count  Dtype  \n",
      "---  ------       --------------  -----  \n",
      " 0   PassengerId  891 non-null    int64  \n",
      " 1   Survived     891 non-null    int64  \n",
      " 2   Pclass       891 non-null    int64  \n",
      " 3   Name         891 non-null    object \n",
      " 4   Sex          891 non-null    object \n",
      " 5   Age          714 non-null    float64\n",
      " 6   SibSp        891 non-null    int64  \n",
      " 7   Parch        891 non-null    int64  \n",
      " 8   Ticket       891 non-null    object \n",
      " 9   Fare         891 non-null    float64\n",
      " 10  Cabin        204 non-null    object \n",
      " 11  Embarked     889 non-null    object \n",
      "dtypes: float64(2), int64(5), object(5)\n",
      "memory usage: 83.7+ KB\n",
      "None\n"
     ]
    }
   ],
   "source": [
    "print(\"\\nData Info:\")\n",
    "print(df.info())"
   ]
  },
  {
   "cell_type": "code",
   "execution_count": 125,
   "id": "f9b232d2-100e-488d-a8f3-f68ba1a05322",
   "metadata": {},
   "outputs": [
    {
     "name": "stdout",
     "output_type": "stream",
     "text": [
      "\n",
      "Missing Values:\n",
      "PassengerId      0\n",
      "Survived         0\n",
      "Pclass           0\n",
      "Name             0\n",
      "Sex              0\n",
      "Age            177\n",
      "SibSp            0\n",
      "Parch            0\n",
      "Ticket           0\n",
      "Fare             0\n",
      "Cabin          687\n",
      "Embarked         2\n",
      "dtype: int64\n"
     ]
    }
   ],
   "source": [
    "print(\"\\nMissing Values:\")\n",
    "print(df.isnull().sum())"
   ]
  },
  {
   "cell_type": "code",
   "execution_count": null,
   "id": "fda1ce4b-0844-40e6-93bb-6ee5c5d4c783",
   "metadata": {},
   "outputs": [],
   "source": []
  },
  {
   "cell_type": "code",
   "execution_count": 126,
   "id": "42342eda-2fad-4ae0-84af-bb581976ae38",
   "metadata": {},
   "outputs": [],
   "source": [
    "# 2.Handle missing values using mean/median/imputation."
   ]
  },
  {
   "cell_type": "code",
   "execution_count": 127,
   "id": "b137b9f3-618a-4240-b067-c12dfdc4d711",
   "metadata": {},
   "outputs": [],
   "source": [
    "# See the main difference between mean median\n",
    "# Mean = (10 + 20 + 30  + 1000) / 4 = 265\n",
    "# Median = (10, 20, 30, 1000 → Median = (20 + 30) / 2 = 25"
   ]
  },
  {
   "cell_type": "code",
   "execution_count": 128,
   "id": "093b4ea2-ff9d-4c7c-8942-e44e203a9890",
   "metadata": {},
   "outputs": [
    {
     "name": "stdout",
     "output_type": "stream",
     "text": [
      "0    22.0\n",
      "1    38.0\n",
      "2    26.0\n",
      "3    35.0\n",
      "4    35.0\n",
      "5     NaN\n",
      "6    54.0\n",
      "7     2.0\n",
      "8    27.0\n",
      "9    14.0\n",
      "Name: Age, dtype: float64\n"
     ]
    }
   ],
   "source": [
    "# Before fill missing value\n",
    "print(df['Age'].head(10))"
   ]
  },
  {
   "cell_type": "code",
   "execution_count": 129,
   "id": "1a5a89f4-defa-4e76-a0bb-5ec889593285",
   "metadata": {},
   "outputs": [],
   "source": [
    "# 1. Fill missing Age with the median age\n",
    "df['Age'] = df['Age'].fillna(df['Age'].median())"
   ]
  },
  {
   "cell_type": "code",
   "execution_count": 130,
   "id": "7be56af6-34eb-4f6d-8bfd-8702b9bb2ff4",
   "metadata": {},
   "outputs": [
    {
     "name": "stdout",
     "output_type": "stream",
     "text": [
      "0    22.0\n",
      "1    38.0\n",
      "2    26.0\n",
      "3    35.0\n",
      "4    35.0\n",
      "5    28.0\n",
      "6    54.0\n",
      "7     2.0\n",
      "8    27.0\n",
      "9    14.0\n",
      "Name: Age, dtype: float64\n"
     ]
    }
   ],
   "source": [
    "print(df['Age'].head(10))"
   ]
  },
  {
   "cell_type": "code",
   "execution_count": 131,
   "id": "847b6c70-2511-4199-a75d-f9b5b9ee9a1c",
   "metadata": {},
   "outputs": [
    {
     "name": "stdout",
     "output_type": "stream",
     "text": [
      "60      C\n",
      "61    NaN\n",
      "62      S\n",
      "63      S\n",
      "64      C\n",
      "Name: Embarked, dtype: object\n"
     ]
    }
   ],
   "source": [
    "# Before fill missing value\n",
    "print(df['Embarked'][60:65])"
   ]
  },
  {
   "cell_type": "code",
   "execution_count": 132,
   "id": "2bcc4fa9-2b78-4688-b144-90151514c1de",
   "metadata": {},
   "outputs": [],
   "source": [
    "# 2. Fill missing Embarked with the most common value\n",
    "df['Embarked'] = df['Embarked'].fillna(df['Embarked'].mode()[0])"
   ]
  },
  {
   "cell_type": "code",
   "execution_count": 133,
   "id": "aa8b458f-c5e8-4053-8ae9-af7e6d98d425",
   "metadata": {},
   "outputs": [
    {
     "name": "stdout",
     "output_type": "stream",
     "text": [
      "60    C\n",
      "61    S\n",
      "62    S\n",
      "63    S\n",
      "64    C\n",
      "Name: Embarked, dtype: object\n"
     ]
    }
   ],
   "source": [
    "print(df['Embarked'][60:65])"
   ]
  },
  {
   "cell_type": "code",
   "execution_count": 134,
   "id": "f020b98b-f697-4973-ace5-b3b96ea3ba9f",
   "metadata": {},
   "outputs": [
    {
     "name": "stdout",
     "output_type": "stream",
     "text": [
      "Missing values after cleaning:\n",
      "\n"
     ]
    },
    {
     "data": {
      "text/plain": [
       "PassengerId    0\n",
       "Survived       0\n",
       "Pclass         0\n",
       "Name           0\n",
       "Sex            0\n",
       "Age            0\n",
       "SibSp          0\n",
       "Parch          0\n",
       "Ticket         0\n",
       "Fare           0\n",
       "Embarked       0\n",
       "dtype: int64"
      ]
     },
     "execution_count": 134,
     "metadata": {},
     "output_type": "execute_result"
    }
   ],
   "source": [
    "# Drop the 'Cabin' column (because it's mostly empty)\n",
    "df = df.drop('Cabin', axis=1)\n",
    "print(\"Missing values after cleaning:\\n\")\n",
    "df.isnull().sum()"
   ]
  },
  {
   "cell_type": "code",
   "execution_count": null,
   "id": "0e0a0eb8-ba3d-449f-ac9f-54cdebbbf969",
   "metadata": {},
   "outputs": [],
   "source": []
  },
  {
   "cell_type": "code",
   "execution_count": 135,
   "id": "2570f520-1d72-478e-8f0a-cf231cae5a27",
   "metadata": {},
   "outputs": [],
   "source": [
    "# 3.Convert categorical features into numerical using encoding."
   ]
  },
  {
   "cell_type": "code",
   "execution_count": null,
   "id": "444b0c9a-27dd-4c17-a090-c244ee42e09c",
   "metadata": {},
   "outputs": [],
   "source": []
  },
  {
   "cell_type": "code",
   "execution_count": 136,
   "id": "e5951b0a-4c7d-47d3-b56a-bec589ea002b",
   "metadata": {},
   "outputs": [],
   "source": [
    "# Now we use Label Encoding for 'Sex' (male = 1, female = 0)\n",
    "df['Sex'] = df['Sex'].map({'male': 1, 'female': 0})"
   ]
  },
  {
   "cell_type": "code",
   "execution_count": 137,
   "id": "580c8daf-0f5a-4621-af99-450c81a959e3",
   "metadata": {},
   "outputs": [],
   "source": [
    "# 2. One-Hot Encoding for 'Embarked'\n",
    "df = pd.get_dummies(df, columns=['Embarked'], drop_first=True)"
   ]
  },
  {
   "cell_type": "code",
   "execution_count": 138,
   "id": "cbc8b0a8-ecea-4b2b-9b46-32a9bff07a34",
   "metadata": {},
   "outputs": [
    {
     "data": {
      "text/html": [
       "<div>\n",
       "<style scoped>\n",
       "    .dataframe tbody tr th:only-of-type {\n",
       "        vertical-align: middle;\n",
       "    }\n",
       "\n",
       "    .dataframe tbody tr th {\n",
       "        vertical-align: top;\n",
       "    }\n",
       "\n",
       "    .dataframe thead th {\n",
       "        text-align: right;\n",
       "    }\n",
       "</style>\n",
       "<table border=\"1\" class=\"dataframe\">\n",
       "  <thead>\n",
       "    <tr style=\"text-align: right;\">\n",
       "      <th></th>\n",
       "      <th>PassengerId</th>\n",
       "      <th>Survived</th>\n",
       "      <th>Pclass</th>\n",
       "      <th>Name</th>\n",
       "      <th>Sex</th>\n",
       "      <th>Age</th>\n",
       "      <th>SibSp</th>\n",
       "      <th>Parch</th>\n",
       "      <th>Ticket</th>\n",
       "      <th>Fare</th>\n",
       "      <th>Embarked_Q</th>\n",
       "      <th>Embarked_S</th>\n",
       "    </tr>\n",
       "  </thead>\n",
       "  <tbody>\n",
       "    <tr>\n",
       "      <th>0</th>\n",
       "      <td>1</td>\n",
       "      <td>0</td>\n",
       "      <td>3</td>\n",
       "      <td>Braund, Mr. Owen Harris</td>\n",
       "      <td>1</td>\n",
       "      <td>22.0</td>\n",
       "      <td>1</td>\n",
       "      <td>0</td>\n",
       "      <td>A/5 21171</td>\n",
       "      <td>7.2500</td>\n",
       "      <td>False</td>\n",
       "      <td>True</td>\n",
       "    </tr>\n",
       "    <tr>\n",
       "      <th>1</th>\n",
       "      <td>2</td>\n",
       "      <td>1</td>\n",
       "      <td>1</td>\n",
       "      <td>Cumings, Mrs. John Bradley (Florence Briggs Th...</td>\n",
       "      <td>0</td>\n",
       "      <td>38.0</td>\n",
       "      <td>1</td>\n",
       "      <td>0</td>\n",
       "      <td>PC 17599</td>\n",
       "      <td>71.2833</td>\n",
       "      <td>False</td>\n",
       "      <td>False</td>\n",
       "    </tr>\n",
       "    <tr>\n",
       "      <th>2</th>\n",
       "      <td>3</td>\n",
       "      <td>1</td>\n",
       "      <td>3</td>\n",
       "      <td>Heikkinen, Miss. Laina</td>\n",
       "      <td>0</td>\n",
       "      <td>26.0</td>\n",
       "      <td>0</td>\n",
       "      <td>0</td>\n",
       "      <td>STON/O2. 3101282</td>\n",
       "      <td>7.9250</td>\n",
       "      <td>False</td>\n",
       "      <td>True</td>\n",
       "    </tr>\n",
       "    <tr>\n",
       "      <th>3</th>\n",
       "      <td>4</td>\n",
       "      <td>1</td>\n",
       "      <td>1</td>\n",
       "      <td>Futrelle, Mrs. Jacques Heath (Lily May Peel)</td>\n",
       "      <td>0</td>\n",
       "      <td>35.0</td>\n",
       "      <td>1</td>\n",
       "      <td>0</td>\n",
       "      <td>113803</td>\n",
       "      <td>53.1000</td>\n",
       "      <td>False</td>\n",
       "      <td>True</td>\n",
       "    </tr>\n",
       "    <tr>\n",
       "      <th>4</th>\n",
       "      <td>5</td>\n",
       "      <td>0</td>\n",
       "      <td>3</td>\n",
       "      <td>Allen, Mr. William Henry</td>\n",
       "      <td>1</td>\n",
       "      <td>35.0</td>\n",
       "      <td>0</td>\n",
       "      <td>0</td>\n",
       "      <td>373450</td>\n",
       "      <td>8.0500</td>\n",
       "      <td>False</td>\n",
       "      <td>True</td>\n",
       "    </tr>\n",
       "  </tbody>\n",
       "</table>\n",
       "</div>"
      ],
      "text/plain": [
       "   PassengerId  Survived  Pclass  \\\n",
       "0            1         0       3   \n",
       "1            2         1       1   \n",
       "2            3         1       3   \n",
       "3            4         1       1   \n",
       "4            5         0       3   \n",
       "\n",
       "                                                Name  Sex   Age  SibSp  Parch  \\\n",
       "0                            Braund, Mr. Owen Harris    1  22.0      1      0   \n",
       "1  Cumings, Mrs. John Bradley (Florence Briggs Th...    0  38.0      1      0   \n",
       "2                             Heikkinen, Miss. Laina    0  26.0      0      0   \n",
       "3       Futrelle, Mrs. Jacques Heath (Lily May Peel)    0  35.0      1      0   \n",
       "4                           Allen, Mr. William Henry    1  35.0      0      0   \n",
       "\n",
       "             Ticket     Fare  Embarked_Q  Embarked_S  \n",
       "0         A/5 21171   7.2500       False        True  \n",
       "1          PC 17599  71.2833       False       False  \n",
       "2  STON/O2. 3101282   7.9250       False        True  \n",
       "3            113803  53.1000       False        True  \n",
       "4            373450   8.0500       False        True  "
      ]
     },
     "execution_count": 138,
     "metadata": {},
     "output_type": "execute_result"
    }
   ],
   "source": [
    "df.head()"
   ]
  },
  {
   "cell_type": "code",
   "execution_count": null,
   "id": "0cbb1f27-2530-4248-9823-938db801adf7",
   "metadata": {},
   "outputs": [],
   "source": []
  },
  {
   "cell_type": "code",
   "execution_count": 139,
   "id": "ab438f41-0d08-48e8-90d2-ea34d17b6663",
   "metadata": {},
   "outputs": [],
   "source": [
    "# 4.Normalize/standardize the numerical features."
   ]
  },
  {
   "cell_type": "code",
   "execution_count": null,
   "id": "965cf786-2587-48a7-8f89-e2797d008681",
   "metadata": {},
   "outputs": [],
   "source": []
  },
  {
   "cell_type": "code",
   "execution_count": 140,
   "id": "2009d7dc-d0ee-4e35-a475-a5fa116fa4e9",
   "metadata": {},
   "outputs": [
    {
     "name": "stdout",
     "output_type": "stream",
     "text": [
      "        Age      Fare\n",
      "0 -0.565736 -0.502445\n",
      "1  0.663861  0.786845\n",
      "2 -0.258337 -0.488854\n",
      "3  0.433312  0.420730\n",
      "4  0.433312 -0.486337\n"
     ]
    }
   ],
   "source": [
    "from sklearn.preprocessing import StandardScaler\n",
    "\n",
    "# Create a scaler object\n",
    "scaler = StandardScaler()\n",
    "\n",
    "# now we choose the column to scale (only numeric)\n",
    "numeric_cols = ['Age', 'Fare']\n",
    "\n",
    "#  Fit and transform the selected columns\n",
    "df[numeric_cols] = scaler.fit_transform(df[numeric_cols])\n",
    "\n",
    "print(df[numeric_cols].head())"
   ]
  },
  {
   "cell_type": "code",
   "execution_count": null,
   "id": "f96cc0d0-abf0-48be-8755-71f4daddb8d0",
   "metadata": {},
   "outputs": [],
   "source": []
  },
  {
   "cell_type": "code",
   "execution_count": 141,
   "id": "67440ede-ba83-460e-a45f-ae625e69d3c9",
   "metadata": {},
   "outputs": [],
   "source": [
    "# Visualize outliers using boxplots and remove them."
   ]
  },
  {
   "cell_type": "code",
   "execution_count": null,
   "id": "47957592-dca9-4590-beb6-dd15ed1d8782",
   "metadata": {},
   "outputs": [],
   "source": []
  },
  {
   "cell_type": "code",
   "execution_count": 142,
   "id": "d576b110-709e-4ccb-a8b4-504fa1990698",
   "metadata": {},
   "outputs": [],
   "source": [
    "# First Visualize the outlier"
   ]
  },
  {
   "cell_type": "code",
   "execution_count": 143,
   "id": "1f429595-fbba-4f02-be88-5a35c51a032c",
   "metadata": {},
   "outputs": [
    {
     "name": "stdout",
     "output_type": "stream",
     "text": [
      "Data shape after removing outliers: (891, 12)\n"
     ]
    }
   ],
   "source": [
    "print(\"Data shape after removing outliers:\", df.shape)"
   ]
  },
  {
   "cell_type": "code",
   "execution_count": 144,
   "id": "cad5a3eb-fa7e-47da-9ffd-ed96045f34f6",
   "metadata": {},
   "outputs": [
    {
     "data": {
      "image/png": "[encoded data removed]",
      "text/plain": [
       "<Figure size 1200x500 with 2 Axes>"
      ]
     },
     "metadata": {},
     "output_type": "display_data"
    }
   ],
   "source": [
    "import seaborn as sns\n",
    "import matplotlib.pyplot as plt\n",
    "\n",
    "# Plot boxplots for Age and Fare\n",
    "plt.figure(figsize=(12, 5))\n",
    "\n",
    "plt.subplot(1, 2, 1)\n",
    "sns.boxplot(x=df['Age'])\n",
    "plt.title(\"Boxplot of Age\")\n",
    "\n",
    "plt.subplot(1, 2, 2)\n",
    "sns.boxplot(x=df['Fare'])\n",
    "plt.title(\"Boxplot of Fare\")\n",
    "\n",
    "plt.tight_layout()\n",
    "plt.show()"
   ]
  },
  {
   "cell_type": "code",
   "execution_count": 145,
   "id": "2202348b-550f-478d-871c-4f1f0ae09001",
   "metadata": {},
   "outputs": [],
   "source": [
    "# Now remove the outlier using IQR and plot"
   ]
  },
  {
   "cell_type": "code",
   "execution_count": 146,
   "id": "c26b76d1-84c0-4cc9-adfd-908751958e93",
   "metadata": {},
   "outputs": [
    {
     "name": "stdout",
     "output_type": "stream",
     "text": [
      "Data shape after removing outliers: (718, 12)\n"
     ]
    },
    {
     "data": {
      "image/png": "[encoded data removed]",
      "text/plain": [
       "<Figure size 1200x500 with 2 Axes>"
      ]
     },
     "metadata": {},
     "output_type": "display_data"
    }
   ],
   "source": [
    "def remove_outliers(df, column):\n",
    "    Q1 = df[column].quantile(0.25)  # 25th percentile\n",
    "    Q3 = df[column].quantile(0.75)  # 75th percentile\n",
    "    IQR = Q3 - Q1                   # Interquartile Range\n",
    "    lower = Q1 - 1.5 * IQR\n",
    "    upper = Q3 + 1.5 * IQR\n",
    "    return df[(df[column] >= lower) & (df[column] <= upper)]\n",
    "\n",
    "# Remove outliers from Age and Fare\n",
    "df = remove_outliers(df, 'Age')\n",
    "df = remove_outliers(df, 'Fare')\n",
    "\n",
    "# Check the shape of the data after removing\n",
    "print(\"Data shape after removing outliers:\", df.shape)\n",
    "\n",
    "plt.figure(figsize=(12, 5))\n",
    "\n",
    "plt.subplot(1, 2, 1)\n",
    "sns.boxplot(x=df['Age'])\n",
    "plt.title(\"Boxplot of Age (After Removing Outliers)\")\n",
    "\n",
    "plt.subplot(1, 2, 2)\n",
    "sns.boxplot(x=df['Fare'])\n",
    "plt.title(\"Boxplot of Fare (After Removing Outliers)\")\n",
    "\n",
    "plt.tight_layout()\n",
    "plt.show()"
   ]
  }
 ],
 "metadata": {
  "kernelspec": {
   "display_name": "Python 3 (ipykernel)",
   "language": "python",
   "name": "python3"
  },
  "language_info": {
   "codemirror_mode": {
    "name": "ipython",
    "version": 3
   },
   "file_extension": ".py",
   "mimetype": "text/x-python",
   "name": "python",
   "nbconvert_exporter": "python",
   "pygments_lexer": "ipython3",
   "version": "3.13.2"
  }
 },
 "nbformat": 4,
 "nbformat_minor": 5
}
